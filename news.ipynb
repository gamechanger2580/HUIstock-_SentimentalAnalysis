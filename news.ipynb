{
 "cells": [
  {
   "cell_type": "code",
   "execution_count": 198,
   "metadata": {},
   "outputs": [],
   "source": [
    "import bs4 \n",
    "import requests\n",
    "from bs4 import BeautifulSoup\n",
    "import json\n",
    "import re\n",
    "import pandas as pd"
   ]
  },
  {
   "cell_type": "code",
   "execution_count": 199,
   "metadata": {},
   "outputs": [],
   "source": [
    "url = \"https://text-analysis12.p.rapidapi.com/sentiment-analysis/api/v1.1\"\n"
   ]
  },
  {
   "cell_type": "code",
   "execution_count": 200,
   "metadata": {},
   "outputs": [],
   "source": [
    "headers = {\n",
    "\t\"content-type\": \"application/json\",\n",
    "\t\"X-RapidAPI-Key\": \"Your Api Key\",\n",
    "\t\"X-RapidAPI-Host\": \"text-analysis12.p.rapidapi.com\"\n",
    "}"
   ]
  },
  {
   "cell_type": "code",
   "execution_count": 201,
   "metadata": {},
   "outputs": [],
   "source": [
    "request = requests.get(\"https://economictimes.indiatimes.com/hindustan-unilever-ltd/stocksupdate/companyid-13616.cms\")\n",
    "soup = bs4.BeautifulSoup(request.text, 'html.parser')"
   ]
  },
  {
   "cell_type": "code",
   "execution_count": 202,
   "metadata": {},
   "outputs": [
    {
     "data": {
      "text/plain": [
       "40"
      ]
     },
     "execution_count": 202,
     "metadata": {},
     "output_type": "execute_result"
    }
   ],
   "source": [
    "all_scripts = soup.find_all('div', attrs={\"class\": \"eachStory\"})\n",
    "len(all_scripts)"
   ]
  },
  {
   "cell_type": "code",
   "execution_count": 203,
   "metadata": {},
   "outputs": [],
   "source": [
    "articleList = []\n"
   ]
  },
  {
   "cell_type": "code",
   "execution_count": 204,
   "metadata": {},
   "outputs": [
    {
     "name": "stdout",
     "output_type": "stream",
     "text": [
      "[{'title': 'Reliance Retail ramps up Smart Bazaar stores in small towns', 'date': '06 Nov 2023, 12:21AM IST', 'info': '\"In the Supermarket India that I see - in modern stores or on digital apps - there are no signs of any downward impact on discretionary spending,\" Damodar Mall said. \"The narrative of some players that non-food is not growing is not a macro consumer concern, but maybe an insight that they are possibly not updating their operating models enough.\"', 'Sentiment': 'negative'}, {'title': 'Small versus big: Why less inflation can become a big worry for FMCG giants', 'date': '04 Nov 2023, 12:25PM IST', 'info': '\\u200b\\u200bAccording to data from the retail intelligence platform Bizom, smaller product sizes have experienced a more rapid growth rate compared to medium or high-priced alternatives across most FMCG categories, TOI has reported. The data revealed that overall sales decreased by approximately 11% in August 2023 compared to the previous year.', 'Sentiment': 'positive'}, {'title': 'Hindustan Unilever  Compliances-Reg. 39 (3) - Details of Loss of Certificate / Duplicate Certificate', 'date': '03 Nov,2023, 05:56PM IST', 'info': \"Pursuant to Regulation 39(3) and other applicable regulations of SEBI (Listing Obligations and Disclosure Requirements) Regulation, 2015, we would like to inform you that Registrar and Share Transfer Agent of the Company, M/s. Kfin Technologies Limited, has received information regarding Loss of share Certificates and request for issuance of Duplicate Share Certificates from the Shareholders.We shall issue ''letter of confirmations'' as per the applicable SEBI Circular, post completion of the necessary formalities by the Shareholders.\", 'Sentiment': 'positive'}, {'title': \"Arvind Fashions to sell Sephora retail division to Ambani's Reliance\", 'date': '03 Nov 2023, 02:31PM IST', 'info': \"Arvind Fashions will sell its beauty brands division, which includes Sephora products, to Reliance Retail for Rs 99 crore ($11.89 million). The deal enhances Reliance's international brand portfolio and follows earlier reports of discussions between Sephora and Reliance Retail for a retail partnership in India, the company said in a filing.\", 'Sentiment': 'neutral'}, {'title': 'Hindustan Unilever  Announcement under Regulation 30 (LODR)-Analyst / Investor Meet - Intimation', 'date': '03 Nov,2023, 11:49AM IST', 'info': 'Intimation regarding the Analyst/Institutional Investor Meet', 'Sentiment': 'neutral'}, {'title': \"Appetite for growth: Big FMCG bite gives teeth to India's revival recipe\", 'date': '02 Nov 2023, 06:20AM IST', 'info': 'Marico, maker of Parachute and Saffola oils, said the second quarter started on a positive note - with increasing demand trends in rural and urban areas in July - but saw a noticeable drop in overall sentiment, especially in rural areas, during August and early September.', 'Sentiment': 'negative'}, {'title': 'Hindustan Unilever  Compliances-Reg. 39 (3) - Details of Loss of Certificate / Duplicate Certificate', 'date': '31 Oct,2023, 05:35PM IST', 'info': \"Pursuant to Regulation 39(3) and other applicable regulations of SEBI (Listing Obligations and Disclosure Requirements) Regulations, 2015, we would like to inform you that the Registrar and Share Transfer Agent of the Company, M/s. Kfin Technologies Limited has received information regarding loss of Share certificates and request for issuance of duplicate share certificates from the shareholders.We shall issue ''letters of confirmation'' as per the applicable SEBI Circular, post completion of the necessary formalities by the Shareholder.\", 'Sentiment': 'positive'}, {'title': 'HUL steps up its advertising budget, raises outlay by Rs 679 cr in Q2', 'date': '30 Oct 2023, 11:58PM IST', 'info': 'HUL is not alone, with other leading stock exchange-listed consumer goods companies such as Colgate-Palmolive and Marico also expanding their advertising spend by 26-32% year-on-year in the September quarter. Most companies have been increasing advertising expenses with the improvement in margins due to the reduction in input cost pressures, industry executives said.', 'Sentiment': 'neutral'}, {'title': 'Foreign funds are selling Indian stocks at fastest pace in months', 'date': '30 Oct 2023, 01:26PM IST', 'info': 'Overseas funds sold $768.4 million of local shares last Thursday alone, the biggest single-day outflow since June 2022 on a net basis, according to the latest data compiled by Bloomberg. Overall, they have withdrawn $1.2 billion in the week through Oct. 26, with Friday’s data yet to be released. That’s already the largest withdrawal in any week since early February.', 'Sentiment': 'neutral'}, {'title': 'Food sector seeks water audits in university curriculum amid heightened water scarcity concerns', 'date': '30 Oct 2023, 09:57AM IST', 'info': 'India\\'s food processing industry has urged the government to incorporate water auditing into university curriculum. They propose this to instil the importance of sustainable water use in the minds of future generations. This initiative aligns with the increasing global concerns about water scarcity. A body has recommended the inclusion of \"water budgeting as a standard practice\" to educate upcoming generations.', 'Sentiment': 'neutral'}, {'title': \"Young working class, reforms make India an investment magnet: Hindustan Unilever's MD Rohit Jawa\", 'date': '30 Oct 2023, 06:35AM IST', 'info': \"Rohit Jawa underscored the role of a consistent policy push in ensuring robust growth in Asia's third-biggest economy, pointing to coordinated action by both North Block and the Reserve Bank of India (RBI) in guiding the nation's finances through the Covid disruptions.\", 'Sentiment': 'neutral'}, {'title': 'Nifty may see modest rebound, support at 18,888: Analysts', 'date': '30 Oct 2023, 06:08AM IST', 'info': 'Stocks such as Persistent, Axis Bank, TCS, RIL, SBI Cards, Birla Soft, Canara Bank, Coal India, Bajaj Auto, TVS Motors, Indigo, and Tata Motors can be bought for trading purposes, analysts said.', 'Sentiment': 'neutral'}, {'title': 'Hot foreign money could continue to dominate flows in and out of Indian equities', 'date': '30 Oct 2023, 05:40AM IST', 'info': \"Superior growth parameters and a potentially flourishing domestic market are factors delighting long-term investors. At the same time, they are hesitant to go all out on the country's stocks at this juncture as over-ownership of equities and premium valuations are pushing many value-conscious money managers to delay their purchases here.\", 'Sentiment': 'neutral'}, {'title': 'When bears are sighted more often: 7 large cap stocks with right mix of RoE & RoCE', 'date': '28 Oct 2023, 01:05PM IST', 'info': 'Given the fact that more uncertainty has emerged on both geo political and economic front. It would be better to stay in cautious mode. One needs to watch what stance the US fed. takes and how other central banks react to it. Especially for Indian equities, valuations are not very cheap and very low probability of any positive surprise in Q2 result season. Over the next couple of days if one is buying it would be better to stick to large cap stocks that too with more checks and balances put in place both in terms of quantitative and qualitative parameters.', 'Sentiment': 'neutral'}, {'title': 'Weekly block deals exceed Rs 5,300 crore; HDFC Bank, RIL in spotlight', 'date': '28 Oct 2023, 11:17AM IST', 'info': 'In the large cap segment, 15 companies witnessed significant block deals on the screen, which were worth Rs 3,533 crore, led by HDFC Bank with an 18 block count, totalling Rs 1,121 crore.', 'Sentiment': 'negative'}, {'title': 'JP Morgan upgrades India to overweight in run-up to polls', 'date': '28 Oct 2023, 09:02AM IST', 'info': 'Since 1991, the Nifty has risen on six out of the eight six-month periods before the elections, said JP Morgan. The index has returned an average of 13% in this period in the past 32 years, it said. The next general election is scheduled to be held in May next year.', 'Sentiment': 'neutral'}, {'title': \"Priya Nair joins list of India-born execs named to Unilever's top team\", 'date': '27 Oct 2023, 10:49AM IST', 'info': \"Nair is the third Indian executive to join the beauty & wellbeing company's top team. The other two are Nitin Paranjpe, chief people and transformation officer, and Rohit Jawa, who assumed charge as CEO & MD of the Indian subsidiary Hindustan Unilever (HUL) in June.\", 'Sentiment': 'positive'}, {'title': 'Smart Rebound! Sensex surges 600 points after 6-day selloff as US Treasury yields subside', 'date': '27 Oct 2023, 09:34AM IST', 'info': 'From the Sensex stocks, Infosys, Tata Steel, M&M, NTPC, SBI and Wipro opened with gains, while only Asian Paints, UltraTech Cement, and HUL opened with cuts.', 'Sentiment': 'neutral'}, {'title': 'Buy the dip! JP Morgan upgrades India to overweight, adds 3 stocks to portfolio', 'date': '27 Oct 2023, 08:54AM IST', 'info': 'JP Morgan said India offers the strongest emerging market nominal GDP compounding (demographic trends, infrastructure investment needs) and has competitive risk-adjusted returns to developed market equities. A deeper domestic bond market should support lower risk premia, it said.', 'Sentiment': 'neutral'}, {'title': \"Unilever plans cut in soap and detergent prices to wash off local players' gains\", 'date': '27 Oct 2023, 06:41AM IST', 'info': 'The maker of Lux soap and Surf Excel detergent also said the Indian market is seeing a gradual recovery, led by urban areas, but the rural market has remained subdued.', 'Sentiment': 'neutral'}, {'title': 'Hindustan Unilever  Announcement under Regulation 30 (LODR)-Earnings Call Transcript', 'date': '26 Oct,2023, 05:44PM IST', 'info': 'Transcript of Earnings Call for the Quarter ended 30th September 2023', 'Sentiment': 'neutral'}, {'title': 'For volatile markets bearish bias: 5 largecap stocks from different sectors with upside potential of up to 40%', 'date': '26 Oct 2023, 03:02PM IST', 'info': 'Ranging from high valuation to event risks in the current quarter in terms of state elections, the global issues, both geo- political tension and high probability of hike in US interest rates. These all things were being ignored by the markets as the liquidity was ensuring that markets move upward very sharply. Finally, markets are waking up to some reality, there is a very likelihood that as adjustment of the global flows continues to happen, we might have more volatile movement. During this phase, if one is looking for investing, it might be better to stick with large caps as they would be better placed weather the volatility. ET screener powered by Refinitiv’s Stock Report Plus applies different algorithms & filters to all BSE and NSE stocks, and lists stocks which fulfill the various criteria as specified into the algorithms & filters to find those which might help navigate the stock market.', 'Sentiment': 'neutral'}, {'title': 'Nestle India stays keen on acquisitions, valuations key', 'date': '25 Oct 2023, 09:34PM IST', 'info': \"Nestle India is actively seeking acquisitions that align with its existing portfolio and meet valuation expectations, according to the company's managing director, Suresh Narayanan. The food manufacturer, known for brands such as Maggi noodles and KitKat chocolate, has expressed interest in acquiring Capital Foods. Narayanan also addressed competition from local rivals in categories such as noodles.\", 'Sentiment': 'neutral'}, {'title': 'Hindustan Unilever  Announcement under Regulation 30 (LODR)-Analyst / Investor Meet - Intimation', 'date': '25 Oct,2023, 05:21PM IST', 'info': 'Intimation regarding Analyst/Institutional Investor Meet', 'Sentiment': 'neutral'}, {'title': 'Hot Stocks: Brokerages view on Nestle India, HUL, Amber Enterprises and PNB Housing Finance', 'date': '25 Oct 2023, 09:43AM IST', 'info': 'The medium-term growth guidance for non-RAC segments remains robust, and the ability to ramp up new segments would be key for re-rating.', 'Sentiment': 'positive'}, {'title': 'Stocks to buy or sell today: Titan, HUL among top 9 trading ideas for 25 October', 'date': '25 Oct 2023, 09:14AM IST', 'info': 'On the monthly options front, the maximum Call OI is placed at 19600 and then towards 19500 strikes while the maximum Put OI is placed at 19000 and then towards 19200 strikes.', 'Sentiment': 'negative'}, {'title': 'As small & mid-caps peak, large-caps turn value picks', 'date': '25 Oct 2023, 06:19AM IST', 'info': \"Sun Pharma, Mahindra & Mahindra, Grasim, Dr Reddy's and Eicher are some of the large-cap stocks trading below their 10-year average valuations.\", 'Sentiment': 'neutral'}, {'title': 'ShareChat owner aims to double ad revenue in 2023', 'date': '24 Oct 2023, 11:41PM IST', 'info': 'Mohalla Tech saw an almost threefold increase in ad revenue in 2021-22 to ₹212 crore. The company, whose revenue more than quadrupled to ₹347 crore and losses increased 2.3 times to ₹2,988 crore, is attempting to reduce cash burn and increase monetisation.', 'Sentiment': 'neutral'}, {'title': 'In run to safety, investors dump risk, mid & smallcap stocks', 'date': '24 Oct 2023, 08:10AM IST', 'info': '\"We are seeing a mean reversion phenomenon in the markets where the mid- and small-cap indices both peaked in October and are now experiencing a correction at a rate faster than the Nifty\" said Deepak Jasani, head of retail research at HDFC Securities. \"Investors display a sentiment of risk aversion and are not willing to wait longer, and hence are pulling out of the market booking profits wherever available or cutting losses.\"', 'Sentiment': 'neutral'}, {'title': 'Hindustan Unilever  Compliances-Reg. 39 (3) - Details of Loss of Certificate / Duplicate Certificate', 'date': '23 Oct,2023, 02:32PM IST', 'info': \"Pursuant to Regulation 39(3) and other applicable regulations of SEBI (Listing Obligations and Disclosure Requirements) Regulations, 2015, we would like to inform you that the Registrar and Share Transfer Agent of the Company, M/s. Kfin Technologies Limited has received information regarding loss of Share Certificates and request for issuance of Duplicate share certificate from the Shareholders. We shall issue ''letters of confirmation'' as per the applicable SEBI Circular, post completion of the necessary formalities by the Shareholders.\", 'Sentiment': 'neutral'}, {'title': 'Mcap of top 10 valued firms plunge Rs 1.52 lakh cr last week; Reliance, TCS biggest laggards', 'date': '22 Oct 2023, 12:41PM IST', 'info': 'The market capitalisation (mcap) of ICICI Bank dived Rs 13,518.4 crore to Rs 6,53,120.67 crore and that of ITC dropped Rs 12,533.27 crore to Rs 5,46,537.83 crore', 'Sentiment': 'neutral'}, {'title': 'September turns out to be a challenging quarter for Indian FMCG players', 'date': '22 Oct 2023, 12:03PM IST', 'info': 'In their September quarter earnings commentaries, top FMCG players like HUL, ITC and Nestle flagged worry over uneven rains, the impact of crop output and rising prices of some commodities (wheat, maida, sugar, potato, coffee, etc).', 'Sentiment': 'neutral'}, {'title': 'Stock picks of the week: 4 stocks with consistent score improvement and upside potential of up to 38%', 'date': '21 Oct 2023, 11:50AM IST', 'info': 'Though the total number of stocks which have seen a consistent improvement in their overall score have come down. As compared to a basket of around 15 to 18 stocks, overall numbers of stocks have come down to 10. It is an indication of volatile markets of the last four weeks showing its impact on the result of quantitative investing models. In one case, while the score has improved, overall recommendation remains as a “sell”. The stocks from sectors like new age platform companies, capital goods, have come to the list. The selected stocks depict a strong upward trajectory in their overall average score which is based on five key pillars i.e. earnings, fundamentals, relative valuation, risk and price momentum. This implies that there has been a significant improvement in their market outlook in the given time frame.', 'Sentiment': 'neutral'}, {'title': \"All of HUL's categories have room for strong growth: MD\", 'date': '20 Oct 2023, 11:08PM IST', 'info': 'Hindustan Unilever (HUL) managing director, Rohit Jawa, stated that all the categories in which the company operates will experience an S-curve of growth driven by increased per-capita consumption and higher rural contribution. He mentioned that HUL has already shown this growth curve in categories such as home care and fabric conditioners, and sees similar opportunities in new demand spaces. ', 'Sentiment': 'positive'}, {'title': \"All of HUL's categories have room for strong growth: MD\", 'date': '20 Oct 2023, 11:08PM IST', 'info': 'Hindustan Unilever (HUL) managing director, Rohit Jawa, stated that all the categories in which the company operates will experience an S-curve of growth driven by increased per-capita consumption and higher rural contribution. He mentioned that HUL has already shown this growth curve in categories such as home care and fabric conditioners, and sees similar opportunities in new demand spaces.', 'Sentiment': 'positive'}, {'title': 'Share market update: Most active stocks of the day in terms of traded value', 'date': '20 Oct 2023, 04:15PM IST', 'info': 'The NSE Nifty index closed 82.05 points down at 19542.65', 'Sentiment': 'positive'}, {'title': 'Hindustan Unilever  Compliances-Reg. 39 (3) - Details of Loss of Certificate / Duplicate Certificate', 'date': '20 Oct,2023, 04:13PM IST', 'info': \"Pursuant to Regulation 39(3) and other applicable regulations of SEBI (Listing Obligations and Disclosure Requirements) Regulations, 2015, we would like to inform you that the Registrar and Share Transfer Agent of the Company, M/s Kfin Technologies Limited has received information regarding loss of share certificates and request for issuance of duplicate share certificates from the Shareholders.We shall issue ''letters of confirmation'' as per the applicable SEBI Circular, post completion of the necessary formalities by the Shareholders.\", 'Sentiment': 'positive'}, {'title': 'Share market update: Most active stocks of the day in terms of total traded value', 'date': '20 Oct 2023, 11:20AM IST', 'info': 'The NSE Nifty index was trading 53.7 points down at 19571.0', 'Sentiment': 'positive'}, {'title': 'HUL shares fall 2% on mixed Q2 earnings, target cuts by brokerages', 'date': '20 Oct 2023, 10:37AM IST', 'info': 'FMCG major Hindustan Unilever Ltd (HUL) has reported a 4% growth in its standalone net profit at Rs 2,717 crore for the quarter ended September 2023.', 'Sentiment': 'positive'}, {'title': 'Buy Hindustan Unilever, target price Rs 3015: Motilal Oswal', 'date': '20 Oct 2023, 10:25AM IST', 'info': 'Hindustan Unilever Ltd., incorporated in the year 1933, is a Large Cap company (having a market cap of Rs 588936.80 Crore) operating in FMCG sector.', 'Sentiment': 'neutral'}]\n"
     ]
    }
   ],
   "source": [
    "\n",
    "for article in all_scripts:\n",
    "    try:\n",
    "        fullTitle = article.find('div', attrs= {\"class\" : \"headingText\"})\n",
    "        title = article.find('h3').text\n",
    "        date = article.find('div',attrs = {\"class\": \"storyDate\"}).text\n",
    "        info = article.find('p').text\n",
    "        payload = {\n",
    "            \"language\": \"english\",\n",
    "            \"text\": info\n",
    "        }\n",
    "        response = requests.post(url, json=payload, headers=headers)\n",
    "\n",
    "        if response.status_code == 200:\n",
    "            sentiment = response.json().get('sentiment')\n",
    "        else:\n",
    "            sentiment = \"N/A\"\n",
    "\n",
    "\n",
    "        article = {\n",
    "            'title': title,\n",
    "            'date': date,\n",
    "            'info': info,\n",
    "            'Sentiment': response.json()['sentiment']\n",
    "        }\n",
    "        articleList.append(article)\n",
    "    except Exception as e:\n",
    "        print(f\"Error processing article: {str(e)}\")\n",
    "\n",
    "print(articleList)"
   ]
  },
  {
   "cell_type": "code",
   "execution_count": 205,
   "metadata": {},
   "outputs": [
    {
     "name": "stdout",
     "output_type": "stream",
     "text": [
      "                                                title  \\\n",
      "0   Reliance Retail ramps up Smart Bazaar stores i...   \n",
      "1   Small versus big: Why less inflation can becom...   \n",
      "2   Hindustan Unilever  Compliances-Reg. 39 (3) - ...   \n",
      "3   Arvind Fashions to sell Sephora retail divisio...   \n",
      "4   Hindustan Unilever  Announcement under Regulat...   \n",
      "5   Appetite for growth: Big FMCG bite gives teeth...   \n",
      "6   Hindustan Unilever  Compliances-Reg. 39 (3) - ...   \n",
      "7   HUL steps up its advertising budget, raises ou...   \n",
      "8   Foreign funds are selling Indian stocks at fas...   \n",
      "9   Food sector seeks water audits in university c...   \n",
      "10  Young working class, reforms make India an inv...   \n",
      "11  Nifty may see modest rebound, support at 18,88...   \n",
      "12  Hot foreign money could continue to dominate f...   \n",
      "13  When bears are sighted more often: 7 large cap...   \n",
      "14  Weekly block deals exceed Rs 5,300 crore; HDFC...   \n",
      "15  JP Morgan upgrades India to overweight in run-...   \n",
      "16  Priya Nair joins list of India-born execs name...   \n",
      "17  Smart Rebound! Sensex surges 600 points after ...   \n",
      "18  Buy the dip! JP Morgan upgrades India to overw...   \n",
      "19  Unilever plans cut in soap and detergent price...   \n",
      "20  Hindustan Unilever  Announcement under Regulat...   \n",
      "21  For volatile markets bearish bias: 5 largecap ...   \n",
      "22  Nestle India stays keen on acquisitions, valua...   \n",
      "23  Hindustan Unilever  Announcement under Regulat...   \n",
      "24  Hot Stocks: Brokerages view on Nestle India, H...   \n",
      "25  Stocks to buy or sell today: Titan, HUL among ...   \n",
      "26  As small & mid-caps peak, large-caps turn valu...   \n",
      "27  ShareChat owner aims to double ad revenue in 2023   \n",
      "28  In run to safety, investors dump risk, mid & s...   \n",
      "29  Hindustan Unilever  Compliances-Reg. 39 (3) - ...   \n",
      "30  Mcap of top 10 valued firms plunge Rs 1.52 lak...   \n",
      "31  September turns out to be a challenging quarte...   \n",
      "32  Stock picks of the week: 4 stocks with consist...   \n",
      "33  All of HUL's categories have room for strong g...   \n",
      "34  All of HUL's categories have room for strong g...   \n",
      "35  Share market update: Most active stocks of the...   \n",
      "36  Hindustan Unilever  Compliances-Reg. 39 (3) - ...   \n",
      "37  Share market update: Most active stocks of the...   \n",
      "38  HUL shares fall 2% on mixed Q2 earnings, targe...   \n",
      "39  Buy Hindustan Unilever, target price Rs 3015: ...   \n",
      "\n",
      "                        date  \\\n",
      "0   06 Nov 2023, 12:21AM IST   \n",
      "1   04 Nov 2023, 12:25PM IST   \n",
      "2   03 Nov,2023, 05:56PM IST   \n",
      "3   03 Nov 2023, 02:31PM IST   \n",
      "4   03 Nov,2023, 11:49AM IST   \n",
      "5   02 Nov 2023, 06:20AM IST   \n",
      "6   31 Oct,2023, 05:35PM IST   \n",
      "7   30 Oct 2023, 11:58PM IST   \n",
      "8   30 Oct 2023, 01:26PM IST   \n",
      "9   30 Oct 2023, 09:57AM IST   \n",
      "10  30 Oct 2023, 06:35AM IST   \n",
      "11  30 Oct 2023, 06:08AM IST   \n",
      "12  30 Oct 2023, 05:40AM IST   \n",
      "13  28 Oct 2023, 01:05PM IST   \n",
      "14  28 Oct 2023, 11:17AM IST   \n",
      "15  28 Oct 2023, 09:02AM IST   \n",
      "16  27 Oct 2023, 10:49AM IST   \n",
      "17  27 Oct 2023, 09:34AM IST   \n",
      "18  27 Oct 2023, 08:54AM IST   \n",
      "19  27 Oct 2023, 06:41AM IST   \n",
      "20  26 Oct,2023, 05:44PM IST   \n",
      "21  26 Oct 2023, 03:02PM IST   \n",
      "22  25 Oct 2023, 09:34PM IST   \n",
      "23  25 Oct,2023, 05:21PM IST   \n",
      "24  25 Oct 2023, 09:43AM IST   \n",
      "25  25 Oct 2023, 09:14AM IST   \n",
      "26  25 Oct 2023, 06:19AM IST   \n",
      "27  24 Oct 2023, 11:41PM IST   \n",
      "28  24 Oct 2023, 08:10AM IST   \n",
      "29  23 Oct,2023, 02:32PM IST   \n",
      "30  22 Oct 2023, 12:41PM IST   \n",
      "31  22 Oct 2023, 12:03PM IST   \n",
      "32  21 Oct 2023, 11:50AM IST   \n",
      "33  20 Oct 2023, 11:08PM IST   \n",
      "34  20 Oct 2023, 11:08PM IST   \n",
      "35  20 Oct 2023, 04:15PM IST   \n",
      "36  20 Oct,2023, 04:13PM IST   \n",
      "37  20 Oct 2023, 11:20AM IST   \n",
      "38  20 Oct 2023, 10:37AM IST   \n",
      "39  20 Oct 2023, 10:25AM IST   \n",
      "\n",
      "                                                 info Sentiment  \n",
      "0   \"In the Supermarket India that I see - in mode...  negative  \n",
      "1   ​​According to data from the retail intelligen...  positive  \n",
      "2   Pursuant to Regulation 39(3) and other applica...  positive  \n",
      "3   Arvind Fashions will sell its beauty brands di...   neutral  \n",
      "4   Intimation regarding the Analyst/Institutional...   neutral  \n",
      "5   Marico, maker of Parachute and Saffola oils, s...  negative  \n",
      "6   Pursuant to Regulation 39(3) and other applica...  positive  \n",
      "7   HUL is not alone, with other leading stock exc...   neutral  \n",
      "8   Overseas funds sold $768.4 million of local sh...   neutral  \n",
      "9   India's food processing industry has urged the...   neutral  \n",
      "10  Rohit Jawa underscored the role of a consisten...   neutral  \n",
      "11  Stocks such as Persistent, Axis Bank, TCS, RIL...   neutral  \n",
      "12  Superior growth parameters and a potentially f...   neutral  \n",
      "13  Given the fact that more uncertainty has emerg...   neutral  \n",
      "14  In the large cap segment, 15 companies witness...  negative  \n",
      "15  Since 1991, the Nifty has risen on six out of ...   neutral  \n",
      "16  Nair is the third Indian executive to join the...  positive  \n",
      "17  From the Sensex stocks, Infosys, Tata Steel, M...   neutral  \n",
      "18  JP Morgan said India offers the strongest emer...   neutral  \n",
      "19  The maker of Lux soap and Surf Excel detergent...   neutral  \n",
      "20  Transcript of Earnings Call for the Quarter en...   neutral  \n",
      "21  Ranging from high valuation to event risks in ...   neutral  \n",
      "22  Nestle India is actively seeking acquisitions ...   neutral  \n",
      "23  Intimation regarding Analyst/Institutional Inv...   neutral  \n",
      "24  The medium-term growth guidance for non-RAC se...  positive  \n",
      "25  On the monthly options front, the maximum Call...  negative  \n",
      "26  Sun Pharma, Mahindra & Mahindra, Grasim, Dr Re...   neutral  \n",
      "27  Mohalla Tech saw an almost threefold increase ...   neutral  \n",
      "28  \"We are seeing a mean reversion phenomenon in ...   neutral  \n",
      "29  Pursuant to Regulation 39(3) and other applica...   neutral  \n",
      "30  The market capitalisation (mcap) of ICICI Bank...   neutral  \n",
      "31  In their September quarter earnings commentari...   neutral  \n",
      "32  Though the total number of stocks which have s...   neutral  \n",
      "33  Hindustan Unilever (HUL) managing director, Ro...  positive  \n",
      "34  Hindustan Unilever (HUL) managing director, Ro...  positive  \n",
      "35  The NSE Nifty index closed 82.05 points down a...  positive  \n",
      "36  Pursuant to Regulation 39(3) and other applica...  positive  \n",
      "37  The NSE Nifty index was trading 53.7 points do...  positive  \n",
      "38  FMCG major Hindustan Unilever Ltd (HUL) has re...  positive  \n",
      "39  Hindustan Unilever Ltd., incorporated in the y...   neutral  \n"
     ]
    }
   ],
   "source": [
    "df = pd.DataFrame(articleList)\n",
    "df.to_csv('article2.csv', index=False)\n",
    "print(df)"
   ]
  },
  {
   "cell_type": "code",
   "execution_count": null,
   "metadata": {},
   "outputs": [],
   "source": []
  }
 ],
 "metadata": {
  "kernelspec": {
   "display_name": "Python 3",
   "language": "python",
   "name": "python3"
  },
  "language_info": {
   "codemirror_mode": {
    "name": "ipython",
    "version": 3
   },
   "file_extension": ".py",
   "mimetype": "text/x-python",
   "name": "python",
   "nbconvert_exporter": "python",
   "pygments_lexer": "ipython3",
   "version": "3.11.5"
  }
 },
 "nbformat": 4,
 "nbformat_minor": 2
}
